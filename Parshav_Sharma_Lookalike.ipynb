{
  "nbformat": 4,
  "nbformat_minor": 0,
  "metadata": {
    "colab": {
      "provenance": []
    },
    "kernelspec": {
      "name": "python3",
      "display_name": "Python 3"
    },
    "language_info": {
      "name": "python"
    }
  },
  "cells": [
    {
      "cell_type": "markdown",
      "source": [
        "**PARSHAV SHARMA**\n",
        "\n",
        "**ASSIGNMENT OF ZEOTAP**"
      ],
      "metadata": {
        "id": "fbZLBCSsIqFs"
      }
    },
    {
      "cell_type": "markdown",
      "source": [
        "Task 2: Lookalike Model\n",
        "Build a Lookalike Model that takes a user's information as input and recommends 3 similar\n",
        "customers based on their profile and transaction history. The model should:\n",
        "\n",
        "● Use both customer and product information.\n",
        "\n",
        "● Assign a similarity score to each recommended customer.\n",
        "\n",
        "Deliverables:\n",
        "\n",
        "● Give the top 3 lookalikes with there similarity scores for the first 20 customers\n",
        "(CustomerID: C0001 - C0020) in Customers.csv. Form an “Lookalike.csv” which has\n",
        "just one map: Map<cust_id, List<cust_id, score>>\n",
        "\n",
        "● A Jupyter Notebook/Python script explaining your model development"
      ],
      "metadata": {
        "id": "dpC6QRDGIQVR"
      }
    },
    {
      "cell_type": "code",
      "execution_count": 1,
      "metadata": {
        "colab": {
          "base_uri": "https://localhost:8080/"
        },
        "id": "ORoy_3b1G9_u",
        "outputId": "f037a25f-e16b-42ed-ad09-8c1433c9b58f"
      },
      "outputs": [
        {
          "output_type": "stream",
          "name": "stdout",
          "text": [
            "Lookalike recommendations have been saved to Lookalike.csv\n"
          ]
        }
      ],
      "source": [
        "import pandas as pd\n",
        "from sklearn.preprocessing import StandardScaler\n",
        "from sklearn.metrics.pairwise import cosine_similarity\n",
        "\n",
        "# Load the data\n",
        "customers_df = pd.read_csv('/content/Customers.csv')\n",
        "products_df = pd.read_csv('/content/Products.csv')\n",
        "transactions_df = pd.read_csv('/content/Transactions.csv')\n",
        "\n",
        "# Merge datasets\n",
        "transactions_with_products = transactions_df.merge(products_df, on='ProductID', how='left')\n",
        "complete_data = transactions_with_products.merge(customers_df, on='CustomerID', how='left')\n",
        "\n",
        "# Create customer profiles\n",
        "customer_profiles = complete_data.groupby('CustomerID').agg(\n",
        "    total_spent=('TotalValue', 'sum'),\n",
        "    total_transactions=('TransactionID', 'count'),\n",
        "    avg_transaction_value=('TotalValue', 'mean'),\n",
        "    unique_categories=('Category', 'nunique'),\n",
        "    most_frequent_category=('Category', lambda x: x.mode()[0] if not x.mode().empty else None),\n",
        "    signup_date=('SignupDate', 'first'),\n",
        "    region=('Region', 'first')\n",
        ").reset_index()\n",
        "\n",
        "# Standardize numerical features\n",
        "features = ['total_spent', 'total_transactions', 'avg_transaction_value', 'unique_categories']\n",
        "scaler = StandardScaler()\n",
        "customer_profiles_scaled = customer_profiles.copy()\n",
        "customer_profiles_scaled[features] = scaler.fit_transform(customer_profiles[features])\n",
        "\n",
        "# Compute cosine similarity matrix\n",
        "similarity_matrix = cosine_similarity(customer_profiles_scaled[features])\n",
        "similarity_df = pd.DataFrame(similarity_matrix, index=customer_profiles['CustomerID'], columns=customer_profiles['CustomerID'])\n",
        "\n",
        "# Function to get top N similar customers\n",
        "def get_top_n_similar(customer_id, n=3):\n",
        "    similar_customers = similarity_df[customer_id].sort_values(ascending=False).iloc[1:n+1]\n",
        "    return list(zip(similar_customers.index, similar_customers.values))\n",
        "\n",
        "# Generate lookalike data for customers C0001 to C0020\n",
        "lookalike_data = {\n",
        "    customer_id: get_top_n_similar(customer_id, n=3)\n",
        "    for customer_id in customer_profiles['CustomerID'].iloc[:20]\n",
        "}\n",
        "\n",
        "# Save the results to Lookalike.csv\n",
        "lookalike_output = []\n",
        "for cust_id, lookalikes in lookalike_data.items():\n",
        "    lookalike_output.append({\n",
        "        \"cust_id\": cust_id,\n",
        "        \"lookalikes\": str(lookalikes)  # Store as a string for CSV format\n",
        "    })\n",
        "\n",
        "lookalike_df = pd.DataFrame(lookalike_output)\n",
        "lookalike_df.to_csv('Lookalike.csv', index=False)\n",
        "\n",
        "print(\"Lookalike recommendations have been saved to Lookalike.csv\")\n"
      ]
    },
    {
      "cell_type": "code",
      "source": [],
      "metadata": {
        "id": "-lk35jLaI0IA"
      },
      "execution_count": null,
      "outputs": []
    }
  ]
}